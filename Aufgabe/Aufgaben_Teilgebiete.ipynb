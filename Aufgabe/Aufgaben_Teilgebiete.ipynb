{
 "cells": [
  {
   "cell_type": "markdown",
   "id": "ea4e9872-afaa-4f1f-bc90-e34e14c84fb8",
   "metadata": {},
   "source": [
    "# Aufgaben Teilgebiete"
   ]
  },
  {
   "cell_type": "code",
   "execution_count": 183,
   "id": "b0adeb0a-e2cb-4d21-8297-0f2a8c1bc92f",
   "metadata": {},
   "outputs": [],
   "source": [
    "import numpy as np\n",
    "import matplotlib.pyplot as plt\n",
    "import pandas as pd"
   ]
  },
  {
   "cell_type": "markdown",
   "id": "8e6db2df-337d-488b-9c94-6487fe983419",
   "metadata": {
    "tags": []
   },
   "source": [
    "## Numpy"
   ]
  },
  {
   "cell_type": "markdown",
   "id": "8f46c54e-4140-4d72-a108-1aee160ee824",
   "metadata": {},
   "source": [
    "### Erstellung von Arrays"
   ]
  },
  {
   "cell_type": "markdown",
   "id": "62868b3b-2233-411d-be3b-0bb118923cff",
   "metadata": {
    "lang": "en"
   },
   "source": [
    "1. Erstellen Sie ein einfaches Arrays (jeweils Vektor und Matrix).\n",
    "2. Überprüfen Sie den  Typ, Anzahl der Elemente und die Anzahl der Dimensionen."
   ]
  },
  {
   "cell_type": "code",
   "execution_count": 184,
   "id": "9b4bbdf9-7963-4a50-8626-f65505a6ffd1",
   "metadata": {},
   "outputs": [
    {
     "name": "stdout",
     "output_type": "stream",
     "text": [
      "Vektor-Array: [1 2 3 4 5]\n",
      "Matrix-Array:\n",
      " [[1 2 3]\n",
      " [4 5 6]\n",
      " [7 8 9]]\n",
      "Typ des Vektor-Arrays: <class 'numpy.ndarray'>\n",
      "Typ des Matrix-Arrays: <class 'numpy.ndarray'>\n",
      "Anzahl der Elemente im Vektor-Array: 5\n",
      "Anzahl der Elemente im Matrix-Array: 9\n",
      "Anzahl der Dimensionen im Vektor-Array: 1\n",
      "Anzahl der Dimensionen im Matrix-Array: 2\n"
     ]
    }
   ],
   "source": [
    "# your code goes here\n",
    "#1\n",
    "# Ein Vektor-Array\n",
    "vector = np.array([1, 2, 3, 4, 5])\n",
    "print(\"Vektor-Array:\", vector)\n",
    "\n",
    "# Ein Matrix-Array\n",
    "matrix = np.array([[1, 2, 3], [4, 5, 6], [7, 8, 9]])\n",
    "print(\"Matrix-Array:\\n\", matrix)\n",
    "\n",
    "#2\n",
    "# Überprüfung den Typ des Arrays\n",
    "print(\"Typ des Vektor-Arrays:\", type(vector))\n",
    "print(\"Typ des Matrix-Arrays:\", type(matrix))\n",
    "\n",
    "# Überprüfung die Anzahl der Elemente im Array\n",
    "print(\"Anzahl der Elemente im Vektor-Array:\", vector.size)\n",
    "print(\"Anzahl der Elemente im Matrix-Array:\", matrix.size)\n",
    "\n",
    "# Überprüfung die Anzahl der Dimensionen im Array\n",
    "print(\"Anzahl der Dimensionen im Vektor-Array:\", vector.ndim)\n",
    "print(\"Anzahl der Dimensionen im Matrix-Array:\", matrix.ndim)\n"
   ]
  },
  {
   "cell_type": "markdown",
   "id": "4873870c-f4e7-44a9-b1a1-46128a5f7b97",
   "metadata": {
    "tags": []
   },
   "source": [
    "### Zugriff auf Arrays"
   ]
  },
  {
   "cell_type": "markdown",
   "id": "ff72eea2-acac-426a-b2bb-fe8d7efb663e",
   "metadata": {
    "lang": "en"
   },
   "source": [
    "**Aufgabe fancy indexing**\n",
    "1) Erstellen Sie das unten abgebildete Array mit den funktionen arange und reshape\n",
    "2) Extrahieren Sie einzelnd die jeweilig farbig markierten Bereiche. <br>\n",
    "Verwenden Sie hierfür jeweils einen slice des arrays a."
   ]
  },
  {
   "attachments": {},
   "cell_type": "markdown",
   "id": "97b4da78-86cd-4052-92ae-d52690aa57b5",
   "metadata": {},
   "source": [
    "<img src=\"images/numpy_slice.png\" alt=\"numpy slice\"  width=\"300\" title =\"Test\"/>"
   ]
  },
  {
   "cell_type": "code",
   "execution_count": 185,
   "id": "662de6a0-f7a8-4e9f-a7c5-09c2a6840b8c",
   "metadata": {
    "canopy_exercise": {
     "cell_type": "student_solution"
    },
    "tags": []
   },
   "outputs": [
    {
     "name": "stdout",
     "output_type": "stream",
     "text": [
      "1. \n",
      "\n",
      "[[ 0  1  2  3  4]\n",
      " [ 5  6  7  8  9]\n",
      " [10 11 12 13 14]\n",
      " [15 16 17 18 19]\n",
      " [20 21 22 23 24]]\n",
      "__________________\n",
      "2. \n",
      "\n",
      "Slice 1:\n",
      "[[5]]\n",
      "\n",
      "Slice 2:\n",
      "[7]\n",
      "\n",
      "Slice 3:\n",
      "[15]\n",
      "\n",
      "Slice 4:\n",
      "[17]\n",
      "\n",
      "Slice 5:\n",
      "[20 21 22 23 24]\n"
     ]
    }
   ],
   "source": [
    "# your code goes here\n",
    "print(\"1. \\n\")\n",
    "\n",
    "# Ein Array mit 25 Elementen (0 bis 24)\n",
    "arr = np.arange(25)\n",
    "matrix = arr.reshape((5, 5))\n",
    "print(matrix)\n",
    "print(\"__________________\")\n",
    "\n",
    "print(\"2. \\n\")\n",
    "\n",
    "a = np.arange(25).reshape((5,5))\n",
    "\n",
    "# Slices ausführen\n",
    "slice1 = a[1:2, 0:1]  # 5\n",
    "slice2 = a[1, 2:3]  # 7 \n",
    "slice3 = a[3, :1]  # 15\n",
    "slice4 = a[3, 2:3]  #17\n",
    "slice5 = a[4, :] # Bereich (20,21,22,23,24)\n",
    "\n",
    "# Ausgabe\n",
    "print(\"Slice 1:\")\n",
    "print(slice1)\n",
    "print(\"\\nSlice 2:\")\n",
    "print(slice2)\n",
    "print(\"\\nSlice 3:\")\n",
    "print(slice3)\n",
    "print(\"\\nSlice 4:\")\n",
    "print(slice4)\n",
    "print(\"\\nSlice 5:\")\n",
    "print(slice5)\n"
   ]
  },
  {
   "cell_type": "markdown",
   "id": "0975bebc-d408-4377-8f02-fce592ea32e7",
   "metadata": {
    "lang": "en"
   },
   "source": [
    "**Aufgabe bolsche Maskierung**\n",
    "\n",
    "1. Exktrahieren Sie die blau markierten Werte .\n",
    "1. Verwenden Sie boolsche Maskierung zur Extrahierung aller Werte ganzzahlig teilbar durch drei.\n",
    "\n",
    "Hinweis: Erstellen Sie eine neue Variable(n), welche die Position enthält."
   ]
  },
  {
   "cell_type": "markdown",
   "id": "7d2fb621-892c-4ec1-a86d-0d9accb84856",
   "metadata": {},
   "source": [
    "<img src='images/numpy_fancy_index.png' alt=\"numpy fancy index\" width=\"300\"/>"
   ]
  },
  {
   "cell_type": "code",
   "execution_count": 186,
   "id": "0a5ee16f-b51a-4b09-b698-6dfe207f37ea",
   "metadata": {
    "canopy_exercise": {
     "cell_type": "student_solution"
    },
    "tags": []
   },
   "outputs": [
    {
     "name": "stdout",
     "output_type": "stream",
     "text": [
      "3 6 10 19 \n",
      "\n",
      "[ 0  3  6  9 12 15 18 21 24]\n"
     ]
    }
   ],
   "source": [
    "# your code goes here\n",
    "a = np.arange(25).reshape(5, 5)\n",
    "# Extrahieren der blau markierten Werte\n",
    "slice1 = a[0, 3]   # Bereich 3\n",
    "slice2 = a[1, 1]   # Bereich 6\n",
    "slice3 = a[2, 0]   # Bereich 10\n",
    "slice4 = a[3, 4]   # Bereich 19\n",
    "\n",
    "# Extrahieren aller Werte ganzzahlig teilbar durch drei\n",
    "mask = a % 3 == 0   # Erstellen der boolschen Maske\n",
    "position = a[mask]\n",
    "print(slice1,slice2,slice3,slice4,\"\\n\")\n",
    "print(position)\n"
   ]
  },
  {
   "cell_type": "markdown",
   "id": "5f677352-bad6-4c10-bbe9-ce913718f338",
   "metadata": {},
   "source": [
    "**Aufgabe:** <br>\n",
    "Extrahieren Sie anhand boolscher Maskierung die Werte welche nicht durch 4 aber durch 5 teilbar sind. Nutzen Sie % für die Berechnung des Modus. Schreiben Sie die Anweisung so, dass Sie genau eine Zeile benötigen"
   ]
  },
  {
   "cell_type": "code",
   "execution_count": 187,
   "id": "07fc78e4-15ef-4d5b-8e26-75d98863a550",
   "metadata": {},
   "outputs": [
    {
     "name": "stdout",
     "output_type": "stream",
     "text": [
      "[ 5 10 15 25 30 35 45 50 55 65 70 75 85 90 95]\n"
     ]
    }
   ],
   "source": [
    "# your code goes here\n",
    "ar = np.arange(0,100)\n",
    "mask = (ar % 4 != 0) & (ar % 5 == 0)  # Eine Maske Die Werte, die nicht durch 4, aber durch 5 teilbar sind\n",
    "Ergebnis = ar[mask]  \n",
    "print(Ergebnis)"
   ]
  },
  {
   "cell_type": "markdown",
   "id": "20c73bdb-b540-426a-b4b8-7f921f2e965f",
   "metadata": {
    "tags": []
   },
   "source": [
    "### Array Methods"
   ]
  },
  {
   "cell_type": "markdown",
   "id": "78df4f9c-bef9-44d6-b1f1-83bd8456cf79",
   "metadata": {
    "lang": "en"
   },
   "source": [
    "**Aufgabe**\n",
    "1) Erstellen Sie das unten dargestellte Array\n",
    "2) Bestimmen Sie \n",
    "   a) das Maximum jeder Zeile \n",
    "   b) den Mittelwert jeder Spalte\n",
    "   c) die Position des Gesamtminimums"
   ]
  },
  {
   "cell_type": "markdown",
   "id": "8a5f5e0b-1d05-43df-a5fe-5d3240be918e",
   "metadata": {},
   "source": [
    "<img src='images/numpy_array_methods.png' alt=\"numpy fancy index\" width=\"300\"/>"
   ]
  },
  {
   "cell_type": "code",
   "execution_count": 188,
   "id": "ab0b2c0b-bb0f-477d-9daf-79d74b47aa62",
   "metadata": {
    "canopy_exercise": {
     "cell_type": "student_solution"
    },
    "tags": []
   },
   "outputs": [
    {
     "name": "stdout",
     "output_type": "stream",
     "text": [
      "Maximum jeder Zeile:  [255  81   9  64 196]\n",
      "Mittelwert jeder Spalte:  [87. 76. 73. 72. 73. 76.]\n",
      "Position des Gesamtminimums:  (2, 3)\n"
     ]
    }
   ],
   "source": [
    "# your code goes here\n",
    "a = np.arange(-15, 15).reshape(5, 6) ** 2\n",
    "#oder\n",
    "a = np.array([[255, 196, 169, 144, 121, 100],\n",
    "              [81, 64, 49, 36, 25, 16],\n",
    "              [9, 4, 1, 0, 1, 4],\n",
    "              [9, 16, 25, 36, 49, 64],\n",
    "              [81, 100, 121, 144, 169, 196]])\n",
    "\n",
    "# a) Maximum jeder Zeile\n",
    "max_per_row = np.max(a, axis=1)\n",
    "print(\"Maximum jeder Zeile: \", max_per_row)\n",
    "\n",
    "# b) Mittelwert jeder Spalte\n",
    "mean_per_col = np.mean(a, axis=0)\n",
    "print(\"Mittelwert jeder Spalte: \", mean_per_col)\n",
    "\n",
    "# c) Position des Gesamtminimums\n",
    "min_pos = np.unravel_index(a.argmin(), a.shape)\n",
    "print(\"Position des Gesamtminimums: \", min_pos)"
   ]
  },
  {
   "cell_type": "markdown",
   "id": "efe76f3e-b81f-42c4-a43b-18c1a7204c06",
   "metadata": {
    "tags": []
   },
   "source": [
    "### Rechnen mit numpy Funktionen"
   ]
  },
  {
   "cell_type": "markdown",
   "id": "b8e48f0a-8823-466a-aec9-f9aa75fcb3d9",
   "metadata": {},
   "source": [
    "**Aufgabe**<br>\n",
    "Erstellen Sie einen Vektor x = 0,2,4,6,8,10,12 und berechnen:\n",
    "$y =\\sqrt{x}$"
   ]
  },
  {
   "cell_type": "code",
   "execution_count": 189,
   "id": "302c78d2-4826-4c7f-9ab9-88941f649f16",
   "metadata": {},
   "outputs": [
    {
     "name": "stdout",
     "output_type": "stream",
     "text": [
      "[0.         1.41421356 2.         2.44948974 2.82842712 3.16227766\n",
      " 3.46410162]\n"
     ]
    }
   ],
   "source": [
    "# your code goes here\n",
    "x = np.array([0, 2, 4, 6, 8, 10, 12])\n",
    "y = np.sqrt(x)\n",
    "\n",
    "print(y)"
   ]
  },
  {
   "cell_type": "markdown",
   "id": "59b13228-f5ce-488a-b5cd-897055490de5",
   "metadata": {},
   "source": [
    "**Aufgabe**<br>\n",
    "Setzen sie die Formel fur die dichtefunktion der Normalverteilung um:\n",
    "$y =\\frac{1}{s\\sqrt{2\\pi}}e^{-\\frac{1}{2}(\\frac{x-m}{s})^2}$<br>\n",
    "mit m=3, s=5, x=2"
   ]
  },
  {
   "cell_type": "code",
   "execution_count": 190,
   "id": "9ef862a3-071d-443b-8b7a-a1178f292f40",
   "metadata": {},
   "outputs": [
    {
     "name": "stdout",
     "output_type": "stream",
     "text": [
      "0.07820853879509118\n"
     ]
    }
   ],
   "source": [
    "# your code goes here\n",
    "m = 3\n",
    "s = 5\n",
    "x = 2\n",
    "\n",
    "y = (1 / (s * np.sqrt(2 * np.pi))) * np.exp(-0.5 * ((x - m) / s) ** 2)\n",
    "print(y)"
   ]
  },
  {
   "cell_type": "markdown",
   "id": "313c2cfa-0d82-4ab3-a2c1-e08911c0b207",
   "metadata": {},
   "source": [
    "**Aufgabe:**\n",
    "1) Erzeugen Sie einen Vektor von 0 bis 10 mit 25 Einträgen (mit np.linspace) \n",
    "2) Bearbeitung des Vektors\n",
    "\n",
    " a) Erzeugen Sie einen neuen Vektor mit allen Elementen kleiner 3<br>\n",
    " b) Löschen Sie diese Elemente aus dem ersten Vektor (mit np.delete) <br>\n",
    " c) Bestimmen Sie die Anzahl der Elemente in beiden Vektoren<br>  "
   ]
  },
  {
   "cell_type": "code",
   "execution_count": 191,
   "id": "f7f0f34d-0a4e-492d-b57b-d9cd4d775d97",
   "metadata": {},
   "outputs": [
    {
     "name": "stdout",
     "output_type": "stream",
     "text": [
      "(8, 0)\n",
      "Anzahl Elemente im a Vektor:  8\n",
      "Anzahl Elemente im b Vektor:  0\n"
     ]
    }
   ],
   "source": [
    "# your code goes here\n",
    "\n",
    "\n",
    "# Erzeugen des Vektors von 0 bis 10 mit 25 Einträgen\n",
    "vector = np.linspace(0, 10, 25)\n",
    "\n",
    "# Eines neuen Vektors mit Elementen kleiner 3\n",
    "a = vector[vector < 3]\n",
    "\n",
    "# Löschen der Elemente kleiner 3 aus dem ursprünglichen Vektor\n",
    "b = np.delete(a, np.where(a < 3))\n",
    "\n",
    "# Anzahl der Elemente in beiden Vektoren\n",
    "anzahl_a = len(a)\n",
    "anzahl_b = len(b)\n",
    "c = len(a), len(b)\n",
    "print(c)\n",
    "print(\"Anzahl Elemente im a Vektor: \", anzahl_a)\n",
    "print(\"Anzahl Elemente im b Vektor: \", anzahl_b)\n"
   ]
  },
  {
   "cell_type": "markdown",
   "id": "71523b68-6b1e-4245-ae2f-4e3609f4dd68",
   "metadata": {},
   "source": [
    "**Aufgabe** Erstellung Array:<br>\n",
    "Bilden Sie die folgende Matrix; numerische Werte in Spalte 13 sind Zufallszahlen<br>\n",
    "Nutzen Sie so wenig Befehle wie möglich<br>\n",
    "Tips für verwendbare Funktionen: eye, repmat, rand<br>\n",
    " - Hinweis: Zeile 13 enthält bis auf die NaN; Zufallswerte mit Funktions randn erzeugt\n",
    " - Hinweis: es sind in der Musterlösung 6 Zeilen Code notwendig\n",
    " - Hinweis: KEINE SCHLEIFEN programmieren!\n",
    " - Hinweis: für eine bessere Kontrolle sollten Sie die Aufgabe in spyder durchführen\n",
    " "
   ]
  },
  {
   "cell_type": "markdown",
   "id": "4fadef3a-0b66-4d7c-bcd2-47504f82d481",
   "metadata": {},
   "source": [
    "<img src='images/matrix.png' alt=\"numpy fancy index\" width=\"600\"/>"
   ]
  },
  {
   "cell_type": "code",
   "execution_count": 192,
   "id": "73b95b9e-3153-48e7-b1ea-e0151951af4f",
   "metadata": {},
   "outputs": [
    {
     "name": "stdout",
     "output_type": "stream",
     "text": [
      "[[ 1.          0.          0.         ...  0.         -2.18949519\n",
      "   0.7244005 ]\n",
      " [ 1.          0.          0.         ...  0.         -2.18949519\n",
      "   0.23609038]\n",
      " [ 1.          0.          0.         ...  0.         -2.18949519\n",
      "   0.75798886]\n",
      " ...\n",
      " [ 0.          0.          0.         ...  0.         -1.02533077\n",
      "   0.27545749]\n",
      " [ 0.          0.          0.         ...  0.         -1.02533077\n",
      "   0.05898883]\n",
      " [ 0.          0.          0.         ...  0.         -1.02533077\n",
      "   0.05221027]]\n"
     ]
    }
   ],
   "source": [
    "# your code goes here\n",
    "\n",
    "# Größe der Matrix\n",
    "n = 13\n",
    "\n",
    "# Erzeuge Einheitsmatrix mit NaN in der 13. Spalte\n",
    "mat = np.eye(n)\n",
    "mat[:, 12] = np.nan\n",
    "\n",
    "# Erzeuge zufällige Werte für die 13. Spalte\n",
    "mat[:, 12] = np.random.randn(n)\n",
    "\n",
    "# Wiederhole jede Zeile n-mal\n",
    "repeated_mat = np.repeat(mat, n, axis=0)\n",
    "\n",
    "# Erzeuge zufällige Werte für die 13. Spalte\n",
    "rand_col = np.random.rand(n**2)\n",
    "\n",
    "# Füge die zufällige Spalte in die Matrix ein\n",
    "final_mat = np.insert(repeated_mat, 13, rand_col, axis=1)\n",
    "\n",
    "\n",
    "print(final_mat)"
   ]
  },
  {
   "cell_type": "markdown",
   "id": "0f25ce9f-44ef-4cea-8964-ec2d0c5d5db8",
   "metadata": {},
   "source": [
    " **Aufgabe** Funktionsanwendung:<br>\n",
    " - Erzeugen Sie einen äquidistanten Vektor v auf dem intervall [-2$\\pi, 2\\pi$] mit Schrittweite $\\pi/16$ \n",
    " - Speichern Sie die Länge des Vektors in einer Variablen laenge\n",
    " - Initialisieren Sie eine Matrix M mit Nullen der Dimension [laenge x 3]\n",
    " - Die Matrix soll wie folgt befüllt werden:\n",
    "     - 1 Spalte: Werte von v\n",
    "     - 2 Spalte: sin(v)\n",
    "     - 3 spalte: cos(v)\n",
    " - Geben Sie mit print die Summe der Absolutwerte der Matrix m zurück:\n",
    " \n",
    " Ergebnisprüfung: Summe absolutwerte = 289.57"
   ]
  },
  {
   "cell_type": "code",
   "execution_count": 193,
   "id": "d4613307-df63-4cec-929b-90464be441d8",
   "metadata": {},
   "outputs": [
    {
     "name": "stdout",
     "output_type": "stream",
     "text": [
      "289.57\n"
     ]
    }
   ],
   "source": [
    "# your code goes here\n",
    "# äquidistanter Vektor v auf [-2π, 2π] mit Schrittweite π/16\n",
    "v = np.linspace(-2*np.pi, 2*np.pi, num=65, endpoint=True)\n",
    "\n",
    "# v = np.arange(-2*np.pi,2*np.pi+1E-6,np.pi/16)\n",
    "# laenge = v.size\n",
    "# Länge des Vektors\n",
    "laenge = len(v)\n",
    "\n",
    "# Matrix M mit Nullen der Dimension [laenge x 3]\n",
    "M = np.zeros((laenge, 3))\n",
    "\n",
    "# Befüllen der Matrix M\n",
    "M[:, 0] = v\n",
    "M[:, 1] = np.sin(v)\n",
    "M[:, 2] = np.cos(v)\n",
    "\n",
    "# Ausgabe der Summe der Absolutwerte von M\n",
    "# print(np.sum(np.abs(M)))\n",
    "print(f\"{np.sum(np.abs(M)):0.2f}\")\n"
   ]
  },
  {
   "cell_type": "markdown",
   "id": "a88d4787-8567-40a5-9d98-a324b804fd3b",
   "metadata": {},
   "source": [
    "<details>\n",
    "    <summary>Click here to see a <strong>solution</strong>.</summary>\n",
    "\n",
    "```python\n",
    "v = np.arange(-2*np.pi,2*np.pi+1E-6,np.pi/16)\n",
    "laenge = v.size\n",
    "M = np.zeros((laenge,3))\n",
    "M[:,0]=v\n",
    "M[:,1]=np.sin(v)\n",
    "M[:,2]=np.cos(v)\n",
    "np.abs(M).sum()\n",
    "```\n",
    "</details>"
   ]
  },
  {
   "cell_type": "markdown",
   "id": "c3d3c6dc-59d4-4439-aee1-63a5414d5bf3",
   "metadata": {},
   "source": [
    " **Aufgabe**<br>\n",
    " - Erzeugen Sie eine quadratische Matrix A [100 x 100] mit Zufallszahlen der Standardnormalverteilung\n",
    " - Erzeugen Sie einen Vektor b in dem die erste und letzte Zeile von A stehen\n",
    " - Erzeugen Sie einen Vektor c aus den werten von A AUßERHALB des Intervalls [-1,1] \n",
    " - Bestimmen Sie die Azahl der Elemente von c"
   ]
  },
  {
   "cell_type": "code",
   "execution_count": 194,
   "id": "e0da1984-3fb5-4050-92ca-91cd4feded7f",
   "metadata": {},
   "outputs": [
    {
     "name": "stdout",
     "output_type": "stream",
     "text": [
      "Die Azahl der Elemente von c: 3172\n"
     ]
    }
   ],
   "source": [
    "# your code goes here\n",
    "\n",
    "# Eine 100x100-Matrix A mit Zufallszahlen aus der Standardnormalverteilung\n",
    "A = np.random.randn(100, 100)\n",
    "\n",
    "# Ein Vektor b mit der ersten und letzten Zeile von A\n",
    "b = np.concatenate((A[0], A[-1]))\n",
    "\n",
    "# erzeuge einen Vektor c mit den Werten von A außerhalb des Intervalls [-1, 1]\n",
    "c = A[(A < -1) | (A > 1)]\n",
    "\n",
    "# count the number of elements in c\n",
    "num_c = c.size\n",
    "#num_c = len(c)\n",
    "\n",
    "print(\"Die Azahl der Elemente von c:\", num_c)"
   ]
  },
  {
   "cell_type": "markdown",
   "id": "6fb19ace-9e8b-4313-be55-47116d83f096",
   "metadata": {},
   "source": [
    "**Aufgabe**<br>\n",
    "1) Erzeugen Sie eine Matrix b mit 10 x 10 Einträgen; füllen Sie diese mit Zufallszahlen der Standardnormalverteilung\n",
    "2) Runden Sie alle Beträge auf die erstelle Nachkommastelle\n",
    "2) Sortieren Sie je Spalte die Einträge \n",
    "3) Erzeugen Sie eine weitere Matrix c; welche die Einträge der Matrix b mit copy\n",
    "4) Erzeugen Sie nan -Werte, falls folgende Bedingungungen gilt: Eintrag >-1 und Eintrag <1 <br>"
   ]
  },
  {
   "cell_type": "code",
   "execution_count": 195,
   "id": "da85a07b-4512-45a1-afa0-c562feb1fe41",
   "metadata": {},
   "outputs": [
    {
     "name": "stdout",
     "output_type": "stream",
     "text": [
      "[[        nan         nan         nan         nan -1.52175267         nan\n",
      "          nan         nan         nan         nan]\n",
      " [        nan -1.5073632          nan  1.4142867          nan         nan\n",
      "  -2.56219403  1.56616174         nan         nan]\n",
      " [        nan  1.44486049  1.86484002  1.6920238          nan -1.20487945\n",
      "          nan         nan  1.19091604 -1.5497269 ]\n",
      " [        nan  1.81131549         nan         nan -1.42722263         nan\n",
      "  -1.00542172         nan         nan         nan]\n",
      " [        nan         nan  1.78136754 -1.738584    3.07922651 -2.207105\n",
      "   1.02822797         nan         nan         nan]\n",
      " [        nan         nan         nan  1.42646639  1.15716842         nan\n",
      "          nan         nan         nan         nan]\n",
      " [-1.14747367         nan         nan         nan  1.15360198         nan\n",
      "  -2.51221752         nan         nan  1.77040351]\n",
      " [        nan  1.74086099 -1.5084931          nan         nan -1.54634796\n",
      "          nan         nan -1.56852891         nan]\n",
      " [        nan         nan  1.40622014 -1.0150584  -1.94191035         nan\n",
      "          nan  4.0953573          nan         nan]\n",
      " [        nan         nan         nan         nan         nan         nan\n",
      "          nan         nan  1.12350351         nan]]\n"
     ]
    }
   ],
   "source": [
    "# your code goes here\n",
    "\n",
    "# 1.Erzeuge Matrix b mit Zufallszahlen\n",
    "b = np.random.randn(10, 10)\n",
    "\n",
    "# 2.Runde Beträge\n",
    "b_rounded = np.round(np.abs(b), decimals=1)\n",
    "\n",
    "# 3.Sortiere je Spalte\n",
    "b_sorted = np.sort(b_rounded, axis=0)\n",
    "\n",
    "# 4.Erzeuge Matrix c mit copy\n",
    "c = b.copy()\n",
    "\n",
    "# Setze Werte auf NaN\n",
    "c[(c > -1) & (c < 1)] = np.nan\n",
    "\n",
    "# print(b)\n",
    "# print(b_rounded)\n",
    "# print(b_sorted)\n",
    "print(c)"
   ]
  },
  {
   "cell_type": "markdown",
   "id": "710782d3-2169-4371-b39e-d331225dc1fe",
   "metadata": {},
   "source": [
    "**Aufgabe**<br>\n",
    "- Definieren Sie eine Liste mit den Einträgen Preis, Menge und Gewinn\n",
    "- Initialisieren Sie ein  dataframe mit  Zufallszahlen der Standardnormalverteilung (4x3), deren Spaltenüberschriften aus der Stringvariablen entnommen werden. \n",
    "- Berechnen Sie in der 4.ten Zeile den Erwartungswert Spaltenweise aus und benennen den Index der Zeile Avg; \n",
    "\n",
    "Hinweis: schauen Sie sich in der Hilfe an, wie eine Intialisierung vorgenommen werden kann.<br>\n",
    "Beschriften Sie die Zeilennamen mit Kunde 1-4. Nutzen Sie hierzu einen Vektor der Elemente 1-4 und einen String \"Kunde\" und fügen sie diese so zusammen, dass ein Stringarray Kunde 1 - Kunde 4 entsteht"
   ]
  },
  {
   "cell_type": "code",
   "execution_count": 196,
   "id": "5688b87f-669a-4c8b-b778-6b2e19f0b7de",
   "metadata": {},
   "outputs": [
    {
     "name": "stdout",
     "output_type": "stream",
     "text": [
      "            Preis     Menge    Gewinn\n",
      "Kunde 1 -2.743635  0.276967  0.982886\n",
      "Kunde 2  0.224254 -0.447818  0.241623\n",
      "Kunde 3 -0.214177  0.945663  0.763275\n",
      "Kunde 4  0.320383  0.205139 -1.396060\n",
      "Avg     -0.603294  0.244988  0.147931\n"
     ]
    }
   ],
   "source": [
    "# your code goes here\n",
    "\n",
    "# Definieren der Liste mit den Einträgen\n",
    "list = ['Preis', 'Menge', 'Gewinn']\n",
    "\n",
    "# Initialisieren des Dataframes mit Zufallszahlen\n",
    "df = pd.DataFrame(np.random.randn(4, 3), columns=list)\n",
    "\n",
    "# Benennen in die 4 Zeilen\n",
    "df.index = ['Kunde ' + str(i) for i in range(1, 5)]\n",
    "\n",
    "# Berechnen des Erwartungswerts spaltenweise und Benennen der Zeile\n",
    "df.loc['Avg'] = df.mean()\n",
    "\n",
    "# print(list)\n",
    "print(df)"
   ]
  },
  {
   "cell_type": "markdown",
   "id": "ee7b9f31-a271-4a66-8ac0-de8c2b28b7f0",
   "metadata": {},
   "source": [
    "**Aufgabe**<br>\n",
    "Laden Sie die Korrelationsmatrix  der Datei Markowitz im Sheet Input\n",
    "Der Index soll auf die Namen gesetzt werden.\n",
    "Ergebnis:\n",
    "\n",
    "<img src=\"images/Aufg6.png\" alt=\"muooolti\"  width=\"500\" >"
   ]
  },
  {
   "cell_type": "code",
   "execution_count": 197,
   "id": "d05fe532-088c-4733-aa25-50c0bdd83f47",
   "metadata": {},
   "outputs": [
    {
     "name": "stdout",
     "output_type": "stream",
     "text": [
      "                                   Jahr Erwartungswert Standardabweichung  \\\n",
      "Name                                                                        \n",
      "Kohle               2010-01-01 00:00:00           0.07               0.05   \n",
      "Gas                 2010-01-01 00:00:00           0.05               0.03   \n",
      "Wind                2010-01-02 00:00:00           0.09                NaN   \n",
      "Speicher            2010-01-03 00:00:00           0.08               0.04   \n",
      "Gasturbine          2010-01-04 00:00:00           0.03               0.02   \n",
      "PV                  2010-01-05 00:00:00          0.025               0.01   \n",
      "Onshore             2010-01-06 00:00:00           0.04               0.02   \n",
      "NaN                                 NaN            NaN                NaN   \n",
      "NaN                                 NaN            NaN                NaN   \n",
      "Korrelationsmatrix                Kohle            Gas      Wind Offshore   \n",
      "Kohle                                 1            0.7                  0   \n",
      "Gas                                 0.7              1                  0   \n",
      "Wind                                  0              0                  1   \n",
      "Speicher                           -0.2              0                  0   \n",
      "Turbine                             0.3              0                  0   \n",
      "Windonshore                           0              0                0.5   \n",
      "PV                                    0              0                  0   \n",
      "NaN                                 NaN            NaN                NaN   \n",
      "Kovarianz                         Tech1          Tech2              Tech3   \n",
      "Tech1                            0.0025        0.00105                  0   \n",
      "Tech2                           0.00105         0.0009                  0   \n",
      "Tech3                                 0              0                  0   \n",
      "Tech4                           -0.0004              0                  0   \n",
      "Tech5                            0.0003              0                  0   \n",
      "NaN                                 NaN            NaN                NaN   \n",
      "Tech                                SWA            SWB                SWC   \n",
      "Kohle                               0.5            0.3                0.3   \n",
      "Gas                                 0.3            0.5                0.3   \n",
      "Wind                                0.2            0.2                0.4   \n",
      "Speicher                              0              0                  0   \n",
      "Gasturbine                            0              0                  0   \n",
      "PV                                    0              0                  0   \n",
      "Onshore                               0              0                  0   \n",
      "\n",
      "                        IRR! Unnamed: 5    Unnamed: 6 Unnamed: 7  \n",
      "Name                                                              \n",
      "Kohle                    NaN   Rückgabe             0        NaN  \n",
      "Gas                      NaN     Beginn           NaN        NaN  \n",
      "Wind                     NaN       Ende           NaN        NaN  \n",
      "Speicher                 NaN        NaN           NaN        NaN  \n",
      "Gasturbine               NaN        NaN           NaN        NaN  \n",
      "PV                       NaN        NaN           NaN        NaN  \n",
      "Onshore                  NaN        NaN           NaN        NaN  \n",
      "NaN                      NaN        NaN           NaN        NaN  \n",
      "NaN                      NaN        NaN           NaN        NaN  \n",
      "Korrelationsmatrix  Speicher    Turbine  Wind Onshore         PV  \n",
      "Kohle                   -0.2        0.3             0          0  \n",
      "Gas                        0          0             0          0  \n",
      "Wind                       0          0           0.5          0  \n",
      "Speicher                   1        0.3             0          0  \n",
      "Turbine                  0.3          1             0          0  \n",
      "Windonshore                0          0             1          0  \n",
      "PV                         0          0             0          1  \n",
      "NaN                      NaN        NaN           NaN        NaN  \n",
      "Kovarianz              Tech4      Tech5           NaN        NaN  \n",
      "Tech1                -0.0004     0.0003           NaN        NaN  \n",
      "Tech2                      0          0           NaN        NaN  \n",
      "Tech3                      0          0           NaN        NaN  \n",
      "Tech4                 0.0016    0.00024           NaN        NaN  \n",
      "Tech5                0.00024     0.0004           NaN        NaN  \n",
      "NaN                      NaN        NaN           NaN        NaN  \n",
      "Tech                     NaN        NaN           NaN        NaN  \n",
      "Kohle                    NaN        NaN           NaN        NaN  \n",
      "Gas                      NaN        NaN           NaN        NaN  \n",
      "Wind                     NaN        NaN           NaN        NaN  \n",
      "Speicher                 NaN        NaN           NaN        NaN  \n",
      "Gasturbine               NaN        NaN           NaN        NaN  \n",
      "PV                       NaN        NaN           NaN        NaN  \n",
      "Onshore                  NaN        NaN           NaN        NaN  \n"
     ]
    }
   ],
   "source": [
    "# your code goes here\n",
    "\n",
    "# Laden der Korrelationsmatrix aus der Datei \"Markowitz.xlsx\"\n",
    "df = pd.read_excel(\"Markowitz.xlsx\", sheet_name=\"Input\", index_col=0)\n",
    "\n",
    "# Setzen des Index auf die Namen\n",
    "df.index.name = \"Name\"\n",
    "\n",
    "# Ausgabe der Korrelationsmatrix\n",
    "print(df)\n",
    "\n",
    "\n"
   ]
  },
  {
   "cell_type": "markdown",
   "id": "efebd71a-ca5c-4618-9cc8-c785c6458868",
   "metadata": {},
   "source": [
    "**Aufgabe:**Hypotenuse eines rechtwinkeligen Dreiecks<br>\n",
    "\n",
    "Schreiben Sie eine lambda-Funktion hyp(a,b), die die Länge der Hypotenuse eines rechtwinkeligenDreiecks nach dem Pythagoreischen Lehrsatzes berechnet. Es sollen die Längen der Katheten a und b eingegeben werden. Nutzen Sie den lambda Operator.\n",
    "\n",
    "Werten Sie die Funktion mit hyp(3,3) aus \n",
    "\n",
    "Hinweis:<br>\n",
    "Ergebnisprüfung: Ergebnis 4.24"
   ]
  },
  {
   "cell_type": "code",
   "execution_count": 198,
   "id": "09801316-ac33-4f25-ada9-8e63fb6c4a9e",
   "metadata": {},
   "outputs": [
    {
     "name": "stdout",
     "output_type": "stream",
     "text": [
      "4.24\n"
     ]
    }
   ],
   "source": [
    "# your code goes here\n",
    "\n",
    "hyp = lambda a, b: (a**2 + b**2)**0.5\n",
    "Ergebnis = hyp(3, 3)\n",
    "\n",
    "print(f\"{Ergebnis:0.2f}\")\n"
   ]
  },
  {
   "cell_type": "markdown",
   "id": "849762fc-1ca4-4f30-9030-f64eba526472",
   "metadata": {},
   "source": [
    "**Aufgabe:** Berechnung Lage und Streuung<br>\n",
    "\n",
    "Schreiben Sie eine Funktion stat die einen Vektor x übergeben bekommt und zwei Skalare zurückgibt (Mittelwert und Standardabweichung)\n",
    "\n",
    "Führen Sie die funktion mit dem Vektor x =[1:10] aus.\n",
    "\n",
    "Hinweis:<br>\n",
    "Ergebnisprüfung: m=5.5 s=2.87"
   ]
  },
  {
   "cell_type": "code",
   "execution_count": 199,
   "id": "7d738db7-567e-452e-adb5-5621550f42d5",
   "metadata": {},
   "outputs": [
    {
     "name": "stdout",
     "output_type": "stream",
     "text": [
      "m=5.5 s=2.87\n"
     ]
    }
   ],
   "source": [
    "# your code goes here\n",
    "\n",
    "def stat(x):\n",
    "    mean = np.mean(x)\n",
    "    std = np.std(x)\n",
    "    return (mean, std)\n",
    "\n",
    "x = np.arange(1, 11)\n",
    "Ergebnis = stat(x)\n",
    "\n",
    "m = Ergebnis[0]\n",
    "s = Ergebnis[1]\n",
    "print(f\"m={m:.1f} s={s:.2f}\")"
   ]
  },
  {
   "cell_type": "markdown",
   "id": "06327c2b-2a0a-4425-9e4d-754fe3252ff4",
   "metadata": {},
   "source": [
    "**Aufgabe:**<br>\n",
    "Schreiben Sie eine Funktion mit dem Namen standardize, welche die Daten in einer maximal zweidimensionalen Matrix von Daten z-standardisiert (also auch Vektoren, jedoch keine Skalare, weil mindestens zwei Datenpunkte vorhanden sein müssen).\n",
    "Die Formel dafür lautet: $ z = \\frac{x-\\mu}{\\sigma}$\n",
    "\n",
    "Die Funktion soll eine gleichgrosse Matrix mit den transformierten Werten zurückgeben, und auch den spaltenweisen Mittelwert und die spaltenweise Standardabweichung der Daten als Vektoren. Setzen Sie dies wie eine «vektorisierte» Lösung – also ohne Schleifen–um. nutzen Sie hierzu numpy und übergeben Sie auch ein numpy-Array an die Funktion.\n",
    "\n",
    "Die der Funktion übergebene Tensor soll vor der Berechnung auf Gültigkeit geprüft werden:\n",
    "\n",
    "- Ist sie Skalar oder leer, soll die Funktion eine leere Matrix [ ] sowie den berechneten Mittelwert und die Standardabweichung (die dann 0 beträgt oder NaN) zurückgeben und einen Warntext schreiben. Nutzen Sie hierfür:not isinstance(x, (list, tuple, np.ndarray))\n",
    "\n",
    "- Ist die Matrix mehr als zweidimensional, soll die Funktion abbrechen und eine entsprechende Fehlermeldung ausgeben."
   ]
  },
  {
   "cell_type": "code",
   "execution_count": 200,
   "id": "c927cae1-8a2f-4e7e-8ec8-542e978996d0",
   "metadata": {},
   "outputs": [
    {
     "name": "stdout",
     "output_type": "stream",
     "text": [
      "z: [-1.48630108 -1.15601195 -0.82572282 -0.49543369 -0.16514456  0.16514456\n",
      "  0.49543369  0.82572282  1.15601195  1.48630108]\n",
      "mu: 4.5\n",
      "sigma: 3.0276503540974917\n"
     ]
    }
   ],
   "source": [
    "# your code goes here\n",
    "\n",
    "\n",
    "def standardize(x):\n",
    "    # Überprüfe, ob die Eingabe gültig ist\n",
    "    if np.ndim(x) > 2:\n",
    "        raise ValueError(\"Die Eingabe muss eine 2D-Matrix oder ein 1D-Array sein.\")\n",
    "    if np.isscalar(x) or x.size == 0:\n",
    "        print(\"Warnung: Die Eingabe ist leer oder skalar. Leere Matrix zurückgeben.\")\n",
    "        return np.array([]), np.array([]), np.array([])\n",
    "    \n",
    "    # Berechne den spaltenweisen Mittelwert und die Standardabweichung\n",
    "    mu = np.mean(x, axis=0)\n",
    "    sigma = np.std(x, axis=0, ddof=1)  # Verwende die Standardabweichung der Stichprobe\n",
    "    \n",
    "    # Standardisieren Sie die Daten\n",
    "    z = (x - mu) / sigma\n",
    "    \n",
    "    return z, mu, sigma\n",
    "\n",
    "\n",
    "x = np.arange(10)\n",
    "z, mu, sigma = standardize(x)\n",
    "print(\"z:\", z)\n",
    "print(\"mu:\", mu)\n",
    "print(\"sigma:\", sigma)\n"
   ]
  },
  {
   "cell_type": "markdown",
   "id": "74bda615-8283-4d68-b090-064c399f35c7",
   "metadata": {
    "jp-MarkdownHeadingCollapsed": true,
    "tags": []
   },
   "source": [
    "## Pandas"
   ]
  },
  {
   "cell_type": "markdown",
   "id": "1780ed20-0e59-4fdd-957b-69f24a5ab17d",
   "metadata": {},
   "source": [
    "### Power Plants Data"
   ]
  },
  {
   "attachments": {},
   "cell_type": "markdown",
   "id": "2ee79ed5",
   "metadata": {},
   "source": [
    "Laden Sie die Datei Krafwrksdaten ein"
   ]
  },
  {
   "cell_type": "code",
   "execution_count": 201,
   "id": "32c1f237-2a05-48bc-8d7e-81e256ed6920",
   "metadata": {},
   "outputs": [],
   "source": [
    "fn = \"Kraftwerksdaten.xlsx\"\n",
    "df = pd.read_excel(fn, index_col=0)"
   ]
  },
  {
   "cell_type": "markdown",
   "id": "0f3d29e8-595e-4ca1-945b-bd06d48ffcd4",
   "metadata": {},
   "source": [
    "Run the function `.describe()` on the DataFrame that includes the power plant database:"
   ]
  },
  {
   "cell_type": "code",
   "execution_count": 202,
   "id": "ff5f93c4-05c6-407d-90fa-b648dda03779",
   "metadata": {},
   "outputs": [
    {
     "name": "stdout",
     "output_type": "stream",
     "text": [
      "       Efficiency       DateIn  DateRetrofit      DateOut           lat  \\\n",
      "count  527.000000  3303.000000   1857.000000   158.000000  5.404000e+03   \n",
      "mean     0.485121  1981.845292   1984.907377  2026.784810  1.176700e+15   \n",
      "std      0.179122    24.768803     24.963034     8.157168  7.202812e+15   \n",
      "min      0.187765  1899.000000   1899.000000  2020.000000  3.529000e+01   \n",
      "25%      0.359274  1964.000000   1967.000000  2021.000000  5.131188e+05   \n",
      "50%      0.389400  1985.000000   1991.000000  2024.000000  4.494937e+07   \n",
      "75%      0.585897  2004.000000   2005.000000  2029.000000  6.146635e+07   \n",
      "max      0.917460  2024.000000   2020.000000  2051.000000  6.385198e+16   \n",
      "\n",
      "       StorageCapacity_MWh  \n",
      "count         5.404000e+03  \n",
      "mean          1.705821e+03  \n",
      "std           4.719071e+04  \n",
      "min           0.000000e+00  \n",
      "25%           0.000000e+00  \n",
      "50%           0.000000e+00  \n",
      "75%           0.000000e+00  \n",
      "max           3.120000e+06  \n"
     ]
    }
   ],
   "source": [
    "print(df.describe())"
   ]
  },
  {
   "cell_type": "markdown",
   "id": "9e911756-8ccb-449c-9d75-9ffcea341165",
   "metadata": {},
   "source": [
    "Provide a list of unique fuel types included in the dataset"
   ]
  },
  {
   "cell_type": "code",
   "execution_count": 203,
   "id": "6fb1c78d-a8d8-4444-8062-674cd67e03db",
   "metadata": {},
   "outputs": [
    {
     "name": "stdout",
     "output_type": "stream",
     "text": [
      "['Nuclear' 'Hard Coal' 'Natural Gas' 'Hydro' 'Lignite' 'Other' 'Oil'\n",
      " 'Bioenergy' 'Wind' 'Solar' 'Geothermal' 'Waste']\n"
     ]
    }
   ],
   "source": [
    "# print(df.columns)\n",
    "\n",
    "\n",
    "unique_fuels = df[\"Fueltype\"].unique()\n",
    "print(unique_fuels)\n"
   ]
  },
  {
   "cell_type": "markdown",
   "id": "27258930-a0cc-4714-a726-3c6d4252e460",
   "metadata": {},
   "source": [
    "Provide a list of unique technologies included in the dataset"
   ]
  },
  {
   "cell_type": "code",
   "execution_count": 204,
   "id": "ac419ac7-8381-4a31-8c33-ba9ad5d859c1",
   "metadata": {},
   "outputs": [
    {
     "name": "stdout",
     "output_type": "stream",
     "text": [
      "['Steam Turbine' 'CCGT' 'Pumped Storage' 'Reservoir' 'Run-Of-River' nan\n",
      " 'Marine' 'Not Found' 'Offshore' 'Onshore' 'Csp' 'not found'\n",
      " 'Combustion Engine' 'CSP']\n"
     ]
    }
   ],
   "source": [
    "unique_technologies = df[\"Technology\"].unique()\n",
    "print(unique_technologies)"
   ]
  },
  {
   "cell_type": "markdown",
   "id": "60bd76e5-1fb7-4426-8b97-f51a43aff2ed",
   "metadata": {},
   "source": [
    "Filter the dataset by power plants with the fuel type \"Hard Coal\""
   ]
  },
  {
   "cell_type": "code",
   "execution_count": 205,
   "id": "b365546f-d011-4ff7-bd2b-56bccd9db63c",
   "metadata": {},
   "outputs": [
    {
     "name": "stdout",
     "output_type": "stream",
     "text": [
      "                             Name   Fueltype     Technology  Set      Country  \\\n",
      "id                                                                              \n",
      "1                         Mellach  Hard Coal  Steam Turbine  CHP      Austria   \n",
      "2                       Eemshaven  Hard Coal           CCGT   PP  Netherlands   \n",
      "3                    Emile Huchet  Hard Coal           CCGT   PP       France   \n",
      "4                          Fusina  Hard Coal  Steam Turbine   PP        Italy   \n",
      "61                         Hemweg  Hard Coal           CCGT   PP  Netherlands   \n",
      "...                           ...        ...            ...  ...          ...   \n",
      "5000                      Ensdorf  Hard Coal            NaN   PP      Germany   \n",
      "5027  International Paper Kwidzyn  Hard Coal            NaN   PP       Poland   \n",
      "5031                         Kiel  Hard Coal            NaN   PP      Germany   \n",
      "5049                         Nowa  Hard Coal            NaN   PP       Poland   \n",
      "5354                  Escatron Gr  Hard Coal            NaN   PP        Spain   \n",
      "\n",
      "               Capacity  Efficiency  DateIn  DateRetrofit  DateOut  \\\n",
      "id                                                                   \n",
      "1                 200.0         NaN  1986.0        1986.0   2020.0   \n",
      "2     16041703044199200        0.58  2015.0           NaN   2029.0   \n",
      "3      5964932108963730         NaN  1958.0        2010.0   2022.0   \n",
      "4      8998104696056580         NaN  1964.0           NaN   2025.0   \n",
      "61               1090.0         NaN  2012.0           NaN      NaN   \n",
      "...                 ...         ...     ...           ...      ...   \n",
      "5000              389.0         NaN     NaN           NaN      NaN   \n",
      "5027              111.6         NaN     NaN           NaN      NaN   \n",
      "5031              323.0         NaN     NaN           NaN      NaN   \n",
      "5049              155.0         NaN     NaN           NaN      NaN   \n",
      "5354               65.0         NaN  1990.0           NaN      NaN   \n",
      "\n",
      "               lat        lon Duration Volume_Mm3 DamHeight_m  \\\n",
      "id                                                              \n",
      "1     4.691170e+05     154883      NaN        0.0         0.0   \n",
      "2     5.344050e+05      68612      NaN        0.0         0.0   \n",
      "3     4.915250e+05      66981      NaN        0.0         0.0   \n",
      "4     4.543140e+05     122458      NaN        0.0         0.0   \n",
      "61    5.240537e+06     484482      NaN        0.0         0.0   \n",
      "...            ...        ...      ...        ...         ...   \n",
      "5000  4.930624e+08   67804113      NaN        0.0         0.0   \n",
      "5027  5.372635e+15  189323043      NaN        0.0         0.0   \n",
      "5031  5.432329e+08  101227652      NaN        0.0         0.0   \n",
      "5049  5.364903e+06  187271078      NaN        0.0         0.0   \n",
      "5354  4.129610e+05    -0.3376      NaN        0.0         0.0   \n",
      "\n",
      "      StorageCapacity_MWh                                       EIC  \\\n",
      "id                                                                    \n",
      "1                     0.0                      {'14W-WML-KW-----0'}   \n",
      "2                     0.0                      {'49W000000000044-'}   \n",
      "3                     0.0  {'17W100P100P0345B', '17W100P100P0344D'}   \n",
      "4                     0.0                      {'26WIMPI-S05FTSNK'}   \n",
      "61                    0.0                      {'49W000000000045Y'}   \n",
      "...                   ...                                       ...   \n",
      "5000                  0.0  {'11WD7ENSD2SKW1-4', '11WD7ENSD5SKW3-E'}   \n",
      "5027                  0.0                      {'19W0000000002337'}   \n",
      "5031                  0.0                      {'11WD2KIKW000301W'}   \n",
      "5049                  0.0                      {'19W000000000239W'}   \n",
      "5354                  0.0                                     {nan}   \n",
      "\n",
      "                                              projectID  \n",
      "id                                                       \n",
      "1     {'BEYONDCOAL': {'BEYOND-AT-11'}, 'ENTSOE': {'1...  \n",
      "2     {'BEYONDCOAL': {'BEYOND-NL-12'}, 'ENTSOE': {'4...  \n",
      "3     {'BEYONDCOAL': {'BEYOND-FR-67'}, 'ENTSOE': {'1...  \n",
      "4     {'BEYONDCOAL': {'BEYOND-IT-24'}, 'ENTSOE': {'2...  \n",
      "61    {'ENTSOE': {'49W000000000045Y'}, 'OPSD': {'OEU...  \n",
      "...                                                 ...  \n",
      "5000  {'ENTSOE': {'11WD7ENSD2SKW1-4', '11WD7ENSD5SKW...  \n",
      "5027                   {'ENTSOE': {'19W0000000002337'}}  \n",
      "5031                   {'ENTSOE': {'11WD2KIKW000301W'}}  \n",
      "5049                   {'ENTSOE': {'19W000000000239W'}}  \n",
      "5354                            {'GPD': {'WRI1006466'}}  \n",
      "\n",
      "[201 rows x 18 columns]\n"
     ]
    }
   ],
   "source": [
    "hard_coal_plants = df[df[\"Fueltype\"] == \"Hard Coal\"]\n",
    "print(hard_coal_plants)"
   ]
  },
  {
   "cell_type": "markdown",
   "id": "aa20e733-4520-4402-a287-2bca4bf9de65",
   "metadata": {},
   "source": [
    "Identify the 5 largest coal power plants. In which countries are they located? When were they built?"
   ]
  },
  {
   "cell_type": "code",
   "execution_count": 206,
   "id": "c201ef8c-d0ad-49be-9f76-939e4366c521",
   "metadata": {},
   "outputs": [
    {
     "name": "stdout",
     "output_type": "stream",
     "text": [
      "                   Name  Country      Capacity  DateIn\n",
      "id                                                    \n",
      "979             Rostock  Germany  5.098311e+16  1994.0\n",
      "398          Staudinger  Germany  5.098311e+16  1965.0\n",
      "974   Zolling Leininger  Germany  4.369981e+16  1986.0\n",
      "252             Esbjerg  Denmark  3.752283e+16  1992.0\n",
      "3096       Munich North  Germany  3.365070e+16  1991.0\n"
     ]
    }
   ],
   "source": [
    "# Spalte \"Capacity\" in numerischen Wert umwandeln und NaN für Nicht-Zahlenwerte setzen\n",
    "df['Capacity'] = pd.to_numeric(df['Capacity'], errors='coerce')\n",
    "# Nur die Kraftwerke mit Fueltype \"Hard Coal\" auswählen\n",
    "hard_coal_plants = df[df['Fueltype'] == 'Hard Coal']\n",
    "# Die Top 5 größten Kohlekraftwerke basierend auf der numerischen Kapazität finden\n",
    "largest_plants = hard_coal_plants.sort_values(by='Capacity', ascending=False).head(5)\n",
    "print(largest_plants[['Name', 'Country', 'Capacity', 'DateIn']])"
   ]
  },
  {
   "cell_type": "markdown",
   "id": "0e760318-f0b6-433e-ba04-62e96fd6902b",
   "metadata": {},
   "source": [
    "Identify the power plant with the longest \"Name\"."
   ]
  },
  {
   "cell_type": "code",
   "execution_count": 207,
   "id": "21941379-fd8b-490d-99c6-7b9a1181d31f",
   "metadata": {},
   "outputs": [
    {
     "name": "stdout",
     "output_type": "stream",
     "text": [
      "Name                   Kesznyeten Hernadviz Hungary Kesznyeten Hernad...\n",
      "Fueltype                                                           Hydro\n",
      "Technology                                                  Run-Of-River\n",
      "Set                                                                   PP\n",
      "Country                                                          Hungary\n",
      "Capacity                                                             NaN\n",
      "Efficiency                                                           NaN\n",
      "DateIn                                                            1945.0\n",
      "DateRetrofit                                                      1992.0\n",
      "DateOut                                                              NaN\n",
      "lat                                                           47995972.0\n",
      "lon                                                             21033037\n",
      "Duration                                                             NaN\n",
      "Volume_Mm3                                                           0.0\n",
      "DamHeight_m                                                         14.0\n",
      "StorageCapacity_MWh                                                  0.0\n",
      "EIC                                                                {nan}\n",
      "projectID                   {'JRC': {'JRC-H2138'}, 'GEO': {'GEO-42677'}}\n",
      "Name: 1373, dtype: object\n"
     ]
    }
   ],
   "source": [
    "longest_name_index = df['Name'].str.len().idxmax()\n",
    "longest_name_powerplant = df.loc[longest_name_index]\n",
    "print(longest_name_powerplant)\n"
   ]
  },
  {
   "cell_type": "markdown",
   "id": "30523f4d-abe1-4be7-ab64-0209912d101e",
   "metadata": {},
   "source": [
    "What is the average \"DateIn\" of each \"Fueltype\"? Which type of power plants is the oldest on average?"
   ]
  },
  {
   "cell_type": "code",
   "execution_count": 208,
   "id": "e50dadde-17d8-423c-b3e4-18ee8862988d",
   "metadata": {},
   "outputs": [
    {
     "name": "stdout",
     "output_type": "stream",
     "text": [
      "Average DateIn by Fueltype:\n",
      " Fueltype\n",
      "Bioenergy      2000.740741\n",
      "Geothermal     1981.000000\n",
      "Hard Coal      1977.089005\n",
      "Hydro          1970.639702\n",
      "Lignite        1977.591837\n",
      "Natural Gas    1997.751032\n",
      "Nuclear        1983.730159\n",
      "Oil            1986.774194\n",
      "Other          2000.208333\n",
      "Solar          2010.750000\n",
      "Waste          1996.809524\n",
      "Wind           2006.227273\n",
      "Name: DateIn, dtype: float64\n",
      "\n",
      "The oldest type of power plants on average is: Hydro\n"
     ]
    }
   ],
   "source": [
    "# Gruppiere die Daten nach \"Fueltype\" und berechnen Sie den Mittelwert \"DateIn\" für jede Gruppe\n",
    "avg_datein_by_fueltype = df.groupby(\"Fueltype\")[\"DateIn\"].mean()\n",
    "\n",
    "# Sortiere das Ergebnis nach dem durchschnittlichen \"DateIn\" in aufsteigender Reihenfolge\n",
    "oldest_fueltype = avg_datein_by_fueltype.sort_values().index[0]\n",
    "\n",
    "# Ergebnis\n",
    "print(\"Average DateIn by Fueltype:\\n\", avg_datein_by_fueltype)\n",
    "print(\"\\nThe oldest type of power plants on average is:\", oldest_fueltype)\n"
   ]
  },
  {
   "cell_type": "markdown",
   "id": "8cf88bcd-7a63-474c-8679-741d11c05a66",
   "metadata": {},
   "source": [
    "Plot a histogram of power plant capacities with bins of length 100 MW between 0 and 4000 MW. What do you observe?"
   ]
  },
  {
   "cell_type": "code",
   "execution_count": 209,
   "id": "20f0b4bc-98af-45f1-98f4-c9f818775a70",
   "metadata": {},
   "outputs": [
    {
     "data": {
      "image/png": "[encoded data removed]",
      "text/plain": [
       "<Figure size 640x480 with 1 Axes>"
      ]
     },
     "metadata": {},
     "output_type": "display_data"
    }
   ],
   "source": [
    "capacities = df['Capacity']\n",
    "bins = range(0, 4100, 100)\n",
    "\n",
    "plt.hist(capacities, bins=bins)\n",
    "plt.xlabel('Capacity (MW)')\n",
    "plt.ylabel('Number of power plants')\n",
    "plt.title('Histogram of power plant capacities')\n",
    "plt.show()\n"
   ]
  },
  {
   "cell_type": "markdown",
   "id": "d5cfaf60-10a9-4c9a-944c-de6bbd697f02",
   "metadata": {},
   "source": [
    "How many power plants of each fuel type are there in each country? Display the results in a DataFrame with countries as index and fuel type as columns. Fill missing values with the value zero. Convert all values to integers.\n",
    "\n",
    "> Browse Google or the pandas documentation to find the right aggregation function to count values."
   ]
  },
  {
   "cell_type": "code",
   "execution_count": 210,
   "id": "4fa21f12-f2aa-49fc-b921-be8024ca0197",
   "metadata": {},
   "outputs": [
    {
     "name": "stdout",
     "output_type": "stream",
     "text": [
      "Fueltype                Bioenergy  Geothermal  Hard Coal  Hydro  Lignite  \\\n",
      "Country                                                                    \n",
      "Albania                         0           0          0      9        0   \n",
      "Austria                         0           0          2    171        0   \n",
      "Belgium                         2           0          1     13        0   \n",
      "Bosnia and Herzegovina          0           0          0     16        0   \n",
      "Bulgaria                        0           0          2     30        8   \n",
      "Croatia                         0           0          1     21        0   \n",
      "Czech Republic                  0           0          9     14       26   \n",
      "Denmark                         4           0          9      0        0   \n",
      "Estonia                         0           0          0      0        0   \n",
      "Finland                        40           0          9    105        6   \n",
      "France                          0           0          4    150        0   \n",
      "Germany                        42           0         55    730       29   \n",
      "Greece                          0           0          0     20        7   \n",
      "Hungary                         1           0          1      4        1   \n",
      "Ireland                         0           0          1      6        2   \n",
      "Italy                           2          24         10    286        0   \n",
      "Latvia                          0           0          0      3        0   \n",
      "Lithuania                       0           0          0      2        0   \n",
      "Luxembourg                      0           0          0      2        0   \n",
      "Moldova                         0           0          0      0        0   \n",
      "Montenegro                      0           0          0      4        1   \n",
      "Netherlands                     0           0          7      0        0   \n",
      "Norway                          0           0          0    378        0   \n",
      "Poland                          0           0         45     18        5   \n",
      "Portugal                        0           0          2     41        0   \n",
      "Romania                         0           0          3    119        5   \n",
      "Serbia                          0           0          0     13        9   \n",
      "Slovakia                        0           0          2     30        3   \n",
      "Slovenia                        0           0          1     28        2   \n",
      "Spain                           1           0         16    361        3   \n",
      "Sweden                          2           0          1    145        0   \n",
      "Switzerland                     0           0          0    465        0   \n",
      "Ukraine                         0           0         11      8        0   \n",
      "United Kingdom                  7           0          9    100        0   \n",
      "\n",
      "Fueltype                Natural Gas  Nuclear  Oil  Other  Solar  Waste  Wind  \n",
      "Country                                                                       \n",
      "Albania                           0        0    1      0      0      0     0  \n",
      "Austria                          17        0    0      0      0      0     1  \n",
      "Belgium                          26        2    9      0      0      8     9  \n",
      "Bosnia and Herzegovina            0        0    0      0      0      0     0  \n",
      "Bulgaria                          6        1    0      0      0      0     0  \n",
      "Croatia                           6        0    0      0      0      0     0  \n",
      "Czech Republic                    5        2    0      0      0      0     0  \n",
      "Denmark                          13        0    1      2      0      0     3  \n",
      "Estonia                           1        0    2      0      0      0     4  \n",
      "Finland                          21        2   17      3      0      0    11  \n",
      "France                           27       19    7      2      0      0     0  \n",
      "Germany                         210        7   29     26      0     64    15  \n",
      "Greece                           12        0    3      0      0      1     0  \n",
      "Hungary                          17        1    1      0      3      0     0  \n",
      "Ireland                           9        0    3      0      0      0     1  \n",
      "Italy                           112        0    2      1     11      0     1  \n",
      "Latvia                            3        0    0      0      0      0     0  \n",
      "Lithuania                         4        0    0      0      0      0     0  \n",
      "Luxembourg                        0        0    0      0      0      0     0  \n",
      "Moldova                           2        0    0      0      0      0     0  \n",
      "Montenegro                        0        0    0      0      0      0     0  \n",
      "Netherlands                      53        1    1      3      0      0     7  \n",
      "Norway                            3        0    0      0      0      0     1  \n",
      "Poland                           16        0    1      0      0      0     3  \n",
      "Portugal                         12        0    0      0      0      0     0  \n",
      "Romania                          10        1    0      0      0      0     0  \n",
      "Serbia                            3        0    0      0      0      0     0  \n",
      "Slovakia                          4        2    0      0      0      0     0  \n",
      "Slovenia                          2        1    0      0      0      0     0  \n",
      "Spain                            80        5   13     15    189     15   294  \n",
      "Sweden                            9        3    4      0      0      0     4  \n",
      "Switzerland                       1        4    0      0      0      0     0  \n",
      "Ukraine                          11        4    0      0      0      0     0  \n",
      "United Kingdom                   86        8    1      1      0     13    29  \n"
     ]
    }
   ],
   "source": [
    "counts = pd.pivot_table(df, values='Name', index='Country', columns='Fueltype', aggfunc='count', fill_value=0)\n",
    "counts = counts.astype(int)\n",
    "print(counts)\n"
   ]
  },
  {
   "attachments": {},
   "cell_type": "markdown",
   "id": "499f73d4-45af-4847-aa55-ab86b0b371ec",
   "metadata": {},
   "source": [
    "### Time Series Analysis\n",
    "\n",
    "Laden Sie die Datei Daten Strommarkt ein."
   ]
  },
  {
   "cell_type": "code",
   "execution_count": 211,
   "id": "34f36105-0f5f-4c08-a15b-c9e16cd18fad",
   "metadata": {},
   "outputs": [
    {
     "name": "stdout",
     "output_type": "stream",
     "text": [
      "                     Biomasse[MWh]  Wasserkraft[MWh]  Wind Offshore[MWh]  \\\n",
      "Datum                                                                      \n",
      "2015-01-01 00:00:00        4024.25           1158.25              516.50   \n",
      "2015-01-01 01:00:00        3982.50           1188.00              516.25   \n",
      "2015-01-01 02:00:00        4019.50           1139.25              514.00   \n",
      "2015-01-01 03:00:00        4040.50           1122.50              517.75   \n",
      "2015-01-01 04:00:00        4037.75           1112.00              519.75   \n",
      "\n",
      "                     Wind Onshore[MWh]  Photovoltaik[MWh]  \\\n",
      "Datum                                                       \n",
      "2015-01-01 00:00:00             8128.0                0.0   \n",
      "2015-01-01 01:00:00             8297.5                0.0   \n",
      "2015-01-01 02:00:00             8540.0                0.0   \n",
      "2015-01-01 03:00:00             8552.0                0.0   \n",
      "2015-01-01 04:00:00             8643.5                0.0   \n",
      "\n",
      "                     Sonstige Erneuerbare[MWh]  Kernenergie[MWh]  \\\n",
      "Datum                                                              \n",
      "2015-01-01 00:00:00                       58.0          10710.50   \n",
      "2015-01-01 01:00:00                       58.0          11086.25   \n",
      "2015-01-01 02:00:00                       58.0          11026.25   \n",
      "2015-01-01 03:00:00                       58.0          11027.75   \n",
      "2015-01-01 04:00:00                       58.0          10962.25   \n",
      "\n",
      "                     Braunkohle[MWh]  Steinkohle[MWh]  Erdgas[MWh]  \\\n",
      "Datum                                                                \n",
      "2015-01-01 00:00:00         15736.00          2767.75      1026.75   \n",
      "2015-01-01 01:00:00         15364.75          1915.75       513.25   \n",
      "2015-01-01 02:00:00         14852.75          1809.75       403.00   \n",
      "2015-01-01 03:00:00         14111.00          1944.50       404.50   \n",
      "2015-01-01 04:00:00         14149.00          1998.00       405.00   \n",
      "\n",
      "                     Pumpspeicher[MWh]  Sonstige Konventionelle[MWh]  \\\n",
      "Datum                                                                  \n",
      "2015-01-01 00:00:00             610.50                       6041.75   \n",
      "2015-01-01 01:00:00             409.75                       5841.00   \n",
      "2015-01-01 02:00:00             634.50                       5908.00   \n",
      "2015-01-01 03:00:00             558.25                       6000.00   \n",
      "2015-01-01 04:00:00             602.75                       5987.75   \n",
      "\n",
      "                         Load  P_Strom  P_Gas  P_EUA    P_COAL  Nettoexport  \n",
      "Datum                                                                        \n",
      "2015-01-01 00:00:00  42097.00  16.8650   21.8    7.2  8.156289        10778  \n",
      "2015-01-01 01:00:00  40665.25  13.4650   21.8    7.2  8.156289        11312  \n",
      "2015-01-01 02:00:00  39509.75  16.0050   21.8    7.2  8.156289        11696  \n",
      "2015-01-01 03:00:00  38537.25  12.3325   21.8    7.2  8.156289        11607  \n",
      "2015-01-01 04:00:00  38153.00  14.2275   21.8    7.2  8.156289        11280  \n"
     ]
    }
   ],
   "source": [
    "# your code here\n",
    "fn = 'Daten Strommarkt.xlsx'\n",
    "df = pd.read_excel(fn, index_col=0, parse_dates=True)\n",
    "print(df.head())"
   ]
  },
  {
   "cell_type": "markdown",
   "id": "39e7e6e4-9462-4757-8f52-89d76d976c53",
   "metadata": {},
   "source": [
    "The start of the dataframe should look like this:"
   ]
  },
  {
   "attachments": {},
   "cell_type": "markdown",
   "id": "ba0c1c42-7bdb-4166-8e06-253d264116a1",
   "metadata": {},
   "source": [
    "|                     |   load |   onwind |   offwind |   solar |   prices |\n",
    "|:--------------------|-------:|---------:|----------:|--------:|---------:|\n",
    "| 2015-01-01 00:00:00 | 41.151 |   0.1566 |    0.703  |       0 |      nan |\n",
    "| 2015-01-01 01:00:00 | 40.135 |   0.1659 |    0.6875 |       0 |      nan |\n",
    "| 2015-01-01 02:00:00 | 39.106 |   0.1746 |    0.6535 |       0 |      nan |\n",
    "| 2015-01-01 03:00:00 | 38.765 |   0.1745 |    0.6803 |       0 |      nan |\n",
    "| 2015-01-01 04:00:00 | 38.941 |   0.1826 |    0.7272 |       0 |      nan |"
   ]
  },
  {
   "cell_type": "markdown",
   "id": "4dca88b7-97d1-41e2-9934-293414d0c2aa",
   "metadata": {},
   "source": [
    "And it should pass the following test:"
   ]
  },
  {
   "cell_type": "code",
   "execution_count": 212,
   "id": "a42cde44-0426-42fb-91ab-7aac297d7e56",
   "metadata": {},
   "outputs": [
    {
     "name": "stdout",
     "output_type": "stream",
     "text": [
      "<class 'pandas.core.indexes.datetimes.DatetimeIndex'>\n"
     ]
    }
   ],
   "source": [
    "assert type(df.index) == pd.DatetimeIndex\n",
    "print(type(df.index))"
   ]
  },
  {
   "cell_type": "markdown",
   "id": "a4c7132e-9f7d-4bea-a9f3-7b403f055bef",
   "metadata": {},
   "source": [
    "For each column:\n",
    "- What are the average, minimum and maximum values?\n",
    "- Find the time stamps where data on prices is missing.\n",
    "- Fill up the missing data with the prices observed one week ahead.\n",
    "- Plot the time series for the full year.\n",
    "- Plot the time series for the month May.\n",
    "- Resample the time series to daily, weeky, and monthly frequencies and plot the resulting time series in one graph.\n",
    "- Sort the values in descending order and plot the duration curve. *Hint: Run `.reset_index(drop=True)` to drop the index after sorting.*\n",
    "- Plot a histogram of the time series values.\n",
    "- Calculate the Pearson correlation coefficients between all time series."
   ]
  },
  {
   "cell_type": "markdown",
   "id": "a364360f-a518-4e2e-8108-721e680ac436",
   "metadata": {
    "jp-MarkdownHeadingCollapsed": true,
    "tags": []
   },
   "source": [
    "## Matplotlib"
   ]
  },
  {
   "attachments": {
    "Aufg1.png": {
     "image/png": "[encoded data removed]"
    }
   },
   "cell_type": "markdown",
   "id": "1a790852-75ba-4b9f-a18b-2481bd3731f5",
   "metadata": {},
   "source": [
    "**Aufgabe**:<br>\n",
    "Erzeugen Sie die folgende Abbildung mit einem objektbasiertem Ansatz\n",
    "\n",
    "<img src=\"images/matlib Aufg1.png\" alt=\"Aufg1\"  width=\"500\"/>"
   ]
  },
  {
   "cell_type": "code",
   "execution_count": 213,
   "id": "7c217e63-ecfe-438c-8b37-15b80ed04290",
   "metadata": {},
   "outputs": [
    {
     "data": {
      "image/png": "[encoded data removed]",
      "text/plain": [
       "<Figure size 640x480 with 1 Axes>"
      ]
     },
     "metadata": {},
     "output_type": "display_data"
    }
   ],
   "source": [
    "# your code goes here\n",
    "\n",
    "x = np.linspace(-2*np.pi, 2*np.pi, 100)\n",
    "\n",
    "# Berechnen der y-Werte\n",
    "y = np.sin(x)\n",
    "\n",
    "# Plotten der Funktion\n",
    "plt.plot(x, y)\n",
    "\n",
    "# Einstellen der Achsenbeschriftungen und Titel\n",
    "plt.xlabel('x')\n",
    "plt.ylabel('sin(x)')\n",
    "plt.title('Wechselstrom im Zeitablauf')\n",
    "plt.plot(x, y, label='Sinus', color='yellow')\n",
    "\n",
    "# Einstellen der Achsenbeschriftungen\n",
    "xticks = [-2*np.pi, np.pi, 0, 2*np.pi, -2*np.pi,np.pi]\n",
    "yticks = [-1, -0.5, 0, 0.5, 1]\n",
    "plt.xlabel('Zeit [w * t]')\n",
    "plt.ylabel('Strom [A]')\n",
    "plt.xticks(xticks, ['-2π', 'π', '0', '2π', '-2π','0'])\n",
    "plt.yticks(yticks)\n",
    "\n",
    "\n",
    "# Anzeigen der Abbildung\n",
    "plt.show()"
   ]
  },
  {
   "attachments": {
    "Aufg2.png": {
     "image/png": "[encoded data removed]"
    }
   },
   "cell_type": "markdown",
   "id": "4134f8ab-cbdf-47d1-b4b9-4cd598bb727e",
   "metadata": {},
   "source": [
    "**Aufgabe**:<br>\n",
    "Erstellen Sie eine Figure und ploten die die Zeitreihe winddaten (Ordner: 07 Daten) in kompletter Länge;\n",
    "Erstellen Sie einen weiteren Plot in einem freien Bereich, der einen Ausschnitt der ersten 96 Datenpunkte beinhält\n",
    "\n",
    "<img src=\"images/matlib Aufg2.png\" alt=\"Aufg1\"  width=\"500\"/>"
   ]
  },
  {
   "cell_type": "code",
   "execution_count": 214,
   "id": "206615b2-5dbb-4a92-b002-04680086d7de",
   "metadata": {},
   "outputs": [],
   "source": [
    "# your code goes here\n",
    "import numpy as np\n",
    "x = np.random.randn(1000)\n",
    "y = np.zeros(1000)\n",
    "for i in range(999):\n",
    "    y[i+1]=.9*y[i]+x[i]\n",
    "\n"
   ]
  },
  {
   "cell_type": "markdown",
   "id": "6f8be4d4-f131-434c-8d0a-165541d4d02a",
   "metadata": {},
   "source": [
    "**Aufgabe**:<br>\n",
    "Erstellen Sie ein plot, der mit gridSpec die Daten visualisiert\n",
    "\n",
    "<img src=\"images/matlib Aufg3.png\" alt=\"Aufg1\"  width=\"500\"/>"
   ]
  },
  {
   "cell_type": "code",
   "execution_count": 215,
   "id": "2a2a1e9e-21ef-4f6a-b230-ae769d062265",
   "metadata": {},
   "outputs": [
    {
     "data": {
      "image/png": "[encoded data removed]",
      "text/plain": [
       "<Figure size 1000x800 with 4 Axes>"
      ]
     },
     "metadata": {},
     "output_type": "display_data"
    }
   ],
   "source": [
    "import numpy as np\n",
    "import matplotlib.pyplot as plt\n",
    "from matplotlib.gridspec import GridSpec\n",
    "\n",
    "# Erstellen der Daten\n",
    "x = np.linspace(-5, 5, 100)\n",
    "y1 = np.sin(x)\n",
    "y2 = np.exp(-x**2)\n",
    "y3 = np.tanh(x)\n",
    "\n",
    "# Erstellen des Rasters\n",
    "fig = plt.figure(figsize=(10, 8))\n",
    "gs = GridSpec(3, 2, figure=fig)\n",
    "\n",
    "# Plot 1\n",
    "ax1 = fig.add_subplot(gs[0,:])\n",
    "ax1.plot(x, y1, color='tab:blue')\n",
    "ax1.set_title('Plot 1', fontsize=14)\n",
    "\n",
    "# Plot 2\n",
    "ax2 = fig.add_subplot(gs[1,0])\n",
    "ax2.plot(x, y2, color='tab:red')\n",
    "ax2.set_title('Plot 2', fontsize=14)\n",
    "\n",
    "# Plot 3\n",
    "ax3 = fig.add_subplot(gs[1,1])\n",
    "ax3.plot(x, y3, color='tab:green')\n",
    "ax3.set_title('Plot 3', fontsize=14)\n",
    "\n",
    "# Anmerkung\n",
    "ax4 = fig.add_subplot(gs[2,:])\n",
    "ax4.annotate('Anmerkung', xy=(0.5, 0.5), xytext=(0.5, 0.5),\n",
    "             xycoords='axes fraction', textcoords='axes fraction',\n",
    "             ha='center', va='center',\n",
    "             arrowprops=dict(facecolor='black', shrink=0.05))\n",
    "\n",
    "plt.tight_layout()\n",
    "plt.show()\n"
   ]
  },
  {
   "cell_type": "markdown",
   "id": "014a4616-4449-4423-a589-0133f2b7779d",
   "metadata": {
    "jp-MarkdownHeadingCollapsed": true,
    "tags": []
   },
   "source": [
    "## Kundenabrechnung"
   ]
  },
  {
   "cell_type": "markdown",
   "id": "7c6519b2-a043-4a33-b9d3-5aeac3f811d2",
   "metadata": {},
   "source": [
    "1) Einladen des Files \"Aufgabe_Abrechnung\" im Ordner Daten\n",
    "Hinweis: das File enthält einen Preis in stündlicher Auflösung, Nachfrage in stündlicher Auflösung, Kundentyp (RLM; SLP), Lieferbeginn und Lieferende.\n",
    "2) Umsetzung einer Abrechnung\n",
    "Jeder Kundentyp hat ein eigenes Abrechnungsverfahren.<br>\n",
    "\n",
    "**RLM:**<br>\n",
    "Rechnung = $\\sum_{t=\\mathrm{Lieferbeginn}}^{\\mathrm{Lieferende}} {\\mathrm{Preis}}_t *{\\mathrm{Nachfrage}}_t +\\mathrm{Poenale};$\n",
    "\n",
    "Die Pönale ist ein 20% Preisaufschlag, falls folgende Bedgingungen vorliegen:\n",
    "- wenn mindestens 7000 Stunden des Jahres Strom bezogen wurde\n",
    "- wenn mehr als 12% des Stroms in den 1000 teuersten Stunden verbraucht werden\n",
    "\n",
    "**SLP:**<br>\n",
    "Rechnung=$\\sum_{t=\\mathrm{Lieferbeginn}}^{\\mathrm{Lieferende}} {\\mathrm{Preis}}_t *{\\mathrm{Nachfrage}}_t$; \n",
    "\n",
    "**SLP HT/NT:**<br>\n",
    "SLP HT/NT werden wie SLP abgerechnet; zusätzlich gibt es einen Discount von 10% auf die Stunden 20 - 8 am Wochende \n",
    "                   (Fr Abend ab 20:00 bis Montag Morgens exkl. 8:00)\n",
    "\n",
    "Hinweis: Nutzen Sie Schleifen, Case-Anweisungen if then else und einzelne Funktionen; \n",
    "Versuchen Sie in einem zweiten Schritt wo möglich die Schleifen durch matrix-schreibweise zu ersetzen\n",
    "\n",
    "WICHTIG!!! Sie dürfen nur 75 Zeilen code verwenden (ohne Kommentarzeilen (beginnend mit #)))!!!"
   ]
  },
  {
   "cell_type": "code",
   "execution_count": 216,
   "id": "600a53c4-6aca-4355-b0bc-83a827c90f04",
   "metadata": {},
   "outputs": [
    {
     "data": {
      "text/html": [
       "<div>\n",
       "<style scoped>\n",
       "    .dataframe tbody tr th:only-of-type {\n",
       "        vertical-align: middle;\n",
       "    }\n",
       "\n",
       "    .dataframe tbody tr th {\n",
       "        vertical-align: top;\n",
       "    }\n",
       "\n",
       "    .dataframe thead th {\n",
       "        text-align: right;\n",
       "    }\n",
       "</style>\n",
       "<table border=\"1\" class=\"dataframe\">\n",
       "  <thead>\n",
       "    <tr style=\"text-align: right;\">\n",
       "      <th></th>\n",
       "      <th>Unnamed: 0</th>\n",
       "      <th>Unnamed: 1</th>\n",
       "      <th>Unnamed: 2</th>\n",
       "      <th>Unnamed: 3</th>\n",
       "      <th>Unnamed: 4</th>\n",
       "      <th>Unnamed: 5</th>\n",
       "      <th>Unnamed: 6</th>\n",
       "      <th>Unnamed: 7</th>\n",
       "      <th>Unnamed: 8</th>\n",
       "      <th>Unnamed: 9</th>\n",
       "      <th>Unnamed: 10</th>\n",
       "      <th>Unnamed: 11</th>\n",
       "    </tr>\n",
       "  </thead>\n",
       "  <tbody>\n",
       "    <tr>\n",
       "      <th>0</th>\n",
       "      <td>NaN</td>\n",
       "      <td>Kunde</td>\n",
       "      <td>1</td>\n",
       "      <td>2</td>\n",
       "      <td>3</td>\n",
       "      <td>4</td>\n",
       "      <td>5</td>\n",
       "      <td>6</td>\n",
       "      <td>7</td>\n",
       "      <td>8</td>\n",
       "      <td>9</td>\n",
       "      <td>10</td>\n",
       "    </tr>\n",
       "    <tr>\n",
       "      <th>1</th>\n",
       "      <td>NaN</td>\n",
       "      <td>Typ</td>\n",
       "      <td>SLP</td>\n",
       "      <td>SLP HT</td>\n",
       "      <td>SLP</td>\n",
       "      <td>RLM</td>\n",
       "      <td>RLM</td>\n",
       "      <td>RLM</td>\n",
       "      <td>SLP</td>\n",
       "      <td>SLP HT</td>\n",
       "      <td>SLP</td>\n",
       "      <td>RLM</td>\n",
       "    </tr>\n",
       "    <tr>\n",
       "      <th>2</th>\n",
       "      <td>NaN</td>\n",
       "      <td>Lieferbeginn</td>\n",
       "      <td>2019-12-21 20:00:00</td>\n",
       "      <td>2020-03-21 20:00:00</td>\n",
       "      <td>2021-02-01 20:00:00</td>\n",
       "      <td>2019-12-03 16:00:00</td>\n",
       "      <td>2020-05-10 01:00:00</td>\n",
       "      <td>2021-03-21 04:00:00</td>\n",
       "      <td>2020-02-01 01:00:00</td>\n",
       "      <td>2021-07-07 20:00:00</td>\n",
       "      <td>2020-12-21 20:00:00</td>\n",
       "      <td>2021-12-21 03:00:00</td>\n",
       "    </tr>\n",
       "    <tr>\n",
       "      <th>3</th>\n",
       "      <td>NaN</td>\n",
       "      <td>Lieferende</td>\n",
       "      <td>2021-01-24 20:00:00</td>\n",
       "      <td>2021-03-21 20:00:00</td>\n",
       "      <td>2022-09-24 20:00:00</td>\n",
       "      <td>2020-05-01 16:00:00</td>\n",
       "      <td>2022-07-19 01:00:00</td>\n",
       "      <td>2022-03-21 04:00:00</td>\n",
       "      <td>2021-09-23 01:00:00</td>\n",
       "      <td>2021-12-04 20:00:00</td>\n",
       "      <td>2022-01-25 20:00:00</td>\n",
       "      <td>2023-11-21 03:00:00</td>\n",
       "    </tr>\n",
       "    <tr>\n",
       "      <th>4</th>\n",
       "      <td>Datum</td>\n",
       "      <td>Preis</td>\n",
       "      <td>NaN</td>\n",
       "      <td>NaN</td>\n",
       "      <td>NaN</td>\n",
       "      <td>NaN</td>\n",
       "      <td>NaN</td>\n",
       "      <td>NaN</td>\n",
       "      <td>NaN</td>\n",
       "      <td>NaN</td>\n",
       "      <td>NaN</td>\n",
       "      <td>NaN</td>\n",
       "    </tr>\n",
       "    <tr>\n",
       "      <th>...</th>\n",
       "      <td>...</td>\n",
       "      <td>...</td>\n",
       "      <td>...</td>\n",
       "      <td>...</td>\n",
       "      <td>...</td>\n",
       "      <td>...</td>\n",
       "      <td>...</td>\n",
       "      <td>...</td>\n",
       "      <td>...</td>\n",
       "      <td>...</td>\n",
       "      <td>...</td>\n",
       "      <td>...</td>\n",
       "    </tr>\n",
       "    <tr>\n",
       "      <th>35520</th>\n",
       "      <td>2023-12-31 19:00:00</td>\n",
       "      <td>48.857</td>\n",
       "      <td>37.644957</td>\n",
       "      <td>43.688759</td>\n",
       "      <td>0</td>\n",
       "      <td>0</td>\n",
       "      <td>0</td>\n",
       "      <td>0</td>\n",
       "      <td>0</td>\n",
       "      <td>0</td>\n",
       "      <td>0</td>\n",
       "      <td>0</td>\n",
       "    </tr>\n",
       "    <tr>\n",
       "      <th>35521</th>\n",
       "      <td>2023-12-31 20:00:00</td>\n",
       "      <td>45.6347</td>\n",
       "      <td>47.323186</td>\n",
       "      <td>48.338629</td>\n",
       "      <td>0</td>\n",
       "      <td>0</td>\n",
       "      <td>0</td>\n",
       "      <td>0</td>\n",
       "      <td>0</td>\n",
       "      <td>0</td>\n",
       "      <td>0</td>\n",
       "      <td>0</td>\n",
       "    </tr>\n",
       "    <tr>\n",
       "      <th>35522</th>\n",
       "      <td>2023-12-31 21:00:00</td>\n",
       "      <td>43.2122</td>\n",
       "      <td>37.289174</td>\n",
       "      <td>0</td>\n",
       "      <td>0</td>\n",
       "      <td>0</td>\n",
       "      <td>0</td>\n",
       "      <td>0</td>\n",
       "      <td>0</td>\n",
       "      <td>0</td>\n",
       "      <td>0</td>\n",
       "      <td>0</td>\n",
       "    </tr>\n",
       "    <tr>\n",
       "      <th>35523</th>\n",
       "      <td>2023-12-31 22:00:00</td>\n",
       "      <td>44.5161</td>\n",
       "      <td>39.697328</td>\n",
       "      <td>0</td>\n",
       "      <td>0</td>\n",
       "      <td>0</td>\n",
       "      <td>0</td>\n",
       "      <td>0</td>\n",
       "      <td>0</td>\n",
       "      <td>0</td>\n",
       "      <td>0</td>\n",
       "      <td>0</td>\n",
       "    </tr>\n",
       "    <tr>\n",
       "      <th>35524</th>\n",
       "      <td>2023-12-31 23:00:00</td>\n",
       "      <td>35.8441</td>\n",
       "      <td>36.378522</td>\n",
       "      <td>0</td>\n",
       "      <td>0</td>\n",
       "      <td>0</td>\n",
       "      <td>0</td>\n",
       "      <td>0</td>\n",
       "      <td>0</td>\n",
       "      <td>0</td>\n",
       "      <td>0</td>\n",
       "      <td>0</td>\n",
       "    </tr>\n",
       "  </tbody>\n",
       "</table>\n",
       "<p>35525 rows × 12 columns</p>\n",
       "</div>"
      ],
      "text/plain": [
       "                Unnamed: 0    Unnamed: 1           Unnamed: 2  \\\n",
       "0                      NaN         Kunde                    1   \n",
       "1                      NaN           Typ                  SLP   \n",
       "2                      NaN  Lieferbeginn  2019-12-21 20:00:00   \n",
       "3                      NaN    Lieferende  2021-01-24 20:00:00   \n",
       "4                    Datum         Preis                  NaN   \n",
       "...                    ...           ...                  ...   \n",
       "35520  2023-12-31 19:00:00        48.857            37.644957   \n",
       "35521  2023-12-31 20:00:00       45.6347            47.323186   \n",
       "35522  2023-12-31 21:00:00       43.2122            37.289174   \n",
       "35523  2023-12-31 22:00:00       44.5161            39.697328   \n",
       "35524  2023-12-31 23:00:00       35.8441            36.378522   \n",
       "\n",
       "                Unnamed: 3           Unnamed: 4           Unnamed: 5  \\\n",
       "0                        2                    3                    4   \n",
       "1                   SLP HT                  SLP                  RLM   \n",
       "2      2020-03-21 20:00:00  2021-02-01 20:00:00  2019-12-03 16:00:00   \n",
       "3      2021-03-21 20:00:00  2022-09-24 20:00:00  2020-05-01 16:00:00   \n",
       "4                      NaN                  NaN                  NaN   \n",
       "...                    ...                  ...                  ...   \n",
       "35520            43.688759                    0                    0   \n",
       "35521            48.338629                    0                    0   \n",
       "35522                    0                    0                    0   \n",
       "35523                    0                    0                    0   \n",
       "35524                    0                    0                    0   \n",
       "\n",
       "                Unnamed: 6           Unnamed: 7           Unnamed: 8  \\\n",
       "0                        5                    6                    7   \n",
       "1                      RLM                  RLM                  SLP   \n",
       "2      2020-05-10 01:00:00  2021-03-21 04:00:00  2020-02-01 01:00:00   \n",
       "3      2022-07-19 01:00:00  2022-03-21 04:00:00  2021-09-23 01:00:00   \n",
       "4                      NaN                  NaN                  NaN   \n",
       "...                    ...                  ...                  ...   \n",
       "35520                    0                    0                    0   \n",
       "35521                    0                    0                    0   \n",
       "35522                    0                    0                    0   \n",
       "35523                    0                    0                    0   \n",
       "35524                    0                    0                    0   \n",
       "\n",
       "                Unnamed: 9          Unnamed: 10          Unnamed: 11  \n",
       "0                        8                    9                   10  \n",
       "1                   SLP HT                  SLP                  RLM  \n",
       "2      2021-07-07 20:00:00  2020-12-21 20:00:00  2021-12-21 03:00:00  \n",
       "3      2021-12-04 20:00:00  2022-01-25 20:00:00  2023-11-21 03:00:00  \n",
       "4                      NaN                  NaN                  NaN  \n",
       "...                    ...                  ...                  ...  \n",
       "35520                    0                    0                    0  \n",
       "35521                    0                    0                    0  \n",
       "35522                    0                    0                    0  \n",
       "35523                    0                    0                    0  \n",
       "35524                    0                    0                    0  \n",
       "\n",
       "[35525 rows x 12 columns]"
      ]
     },
     "execution_count": 216,
     "metadata": {},
     "output_type": "execute_result"
    }
   ],
   "source": [
    "import pandas as pd\n",
    "import numpy as np\n",
    "import datetime as dt\n",
    "\n",
    "\n",
    "df_abrechnung = pd.read_excel(\"Aufgabe_Abrechnung.xlsx\")\n",
    "def RLM_abrechnung(df):\n",
    "    gesamtstunden = (df[\"Lieferende\"] - df[\"Lieferbeginn\"]).days * 24\n",
    "    bezogene_stunden = df[\"Nachfrage\"].count()\n",
    "    teuerste_stunden = df.sort_values(by=\"Preis\", ascending=False).head(1000)[\"Nachfrage\"].count()\n",
    "    poenale = 0.2 if bezogene_stunden >= 7000 or teuerste_stunden > (gesamtstunden * 0.12) else 0\n",
    "    abrechnung = sum(df[\"Preis\"] * df[\"Nachfrage\"]) + poenale * sum(df[\"Preis\"] * df[\"Nachfrage\"])\n",
    "    return abrechnung\n",
    "\n",
    "def SLP_abrechnung(df):\n",
    "    abrechnung = sum(df[\"Preis\"] * df[\"Nachfrage\"])\n",
    "    return abrechnung\n",
    "\n",
    "def SLP_HT_NT_abrechnung(df):\n",
    "    discount_start = dt.time(hour=20, minute=0)\n",
    "    discount_end = dt.time(hour=8, minute=0)\n",
    "    discount_days = [4, 5, 6]\n",
    "    df_discount = df[(df[\"Nachfrage\"].index.time >= discount_start) & \n",
    "                     (df[\"Nachfrage\"].index.time < discount_end) & \n",
    "                     (df[\"Nachfrage\"].index.weekday.isin(discount_days))]\n",
    "    abrechnung = sum(df[\"Preis\"] * df[\"Nachfrage\"]) - 0.1 * sum(df_discount[\"Preis\"] * df_discount[\"Nachfrage\"])\n",
    "    return abrechnung\n",
    "\n",
    "def abrechnung(df):\n",
    "    if df[\"Kundentyp\"] == \"RLM\":\n",
    "        return RLM_abrechnung(df)\n",
    "    elif df[\"Kundentyp\"] == \"SLP\":\n",
    "        return SLP_abrechnung(df)\n",
    "    elif df[\"Kundentyp\"] == \"SLP HT/NT\":\n",
    "        return SLP_HT_NT_abrechnung(df)\n",
    "\n",
    "df_abrechnung\n"
   ]
  }
 ],
 "metadata": {
  "kernelspec": {
   "display_name": "Python 3",
   "language": "python",
   "name": "python3"
  },
  "language_info": {
   "codemirror_mode": {
    "name": "ipython",
    "version": 3
   },
   "file_extension": ".py",
   "mimetype": "text/x-python",
   "name": "python",
   "nbconvert_exporter": "python",
   "pygments_lexer": "ipython3",
   "version": "3.10.7"
  },
  "vscode": {
   "interpreter": {
    "hash": "aee8b7b246df8f9039afb4144a1f6fd8d2ca17a180786b69acc140d282b71a49"
   }
  },
  "widgets": {
   "application/vnd.jupyter.widget-state+json": {
    "state": {},
    "version_major": 2,
    "version_minor": 0
   }
  }
 },
 "nbformat": 4,
 "nbformat_minor": 5
}
